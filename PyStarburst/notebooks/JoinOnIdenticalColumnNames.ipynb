{
 "cells": [
  {
   "cell_type": "markdown",
   "id": "c3883d2a",
   "metadata": {},
   "source": [
    "# Joining spark DFs w/identical column names"
   ]
  },
  {
   "cell_type": "markdown",
   "id": "5f68a648",
   "metadata": {},
   "source": [
    "## Background\n",
    "\n",
    "This notebook ports the Scala DataFrame code presented in the [joining spark dataframes with identical column names](https://lestermartin.blog/2020/12/02/joining-spark-dataframes-with-identical-column-names-not-just-in-the-join-condition/) blog post and ports it to Python.\n",
    "\n",
    "Additionally, this notebook is using [PyStarburst](https://docs.starburst.io/clients/python/pystarburst.html) and not PySpark, but one could very easily modify that in the config/setup section below.\n",
    "\n",
    "Oh... this notebook provides and easier way to solve this than the `withColumnRenamed` function, but I'll save that until the last."
   ]
  },
  {
   "cell_type": "markdown",
   "id": "bd8adb40",
   "metadata": {},
   "source": [
    "---\n",
    "## Config & setup\n",
    "\n",
    "Be sure to run `pip install pystarburst` if not already installed.\n",
    "\n",
    "Should return `[Row(Working='Yes')]` if functional.  If an exception is raised, \n",
    "it is likely due to incorrect cluster and/or credentials values."
   ]
  },
  {
   "cell_type": "code",
   "execution_count": null,
   "id": "999ddb74",
   "metadata": {},
   "outputs": [],
   "source": [
    "import getpass\n",
    "import trino\n",
    "from pystarburst import Session\n",
    "from pystarburst import functions as F\n",
    "from pystarburst.functions import *\n",
    "from pystarburst.window import Window as W\n",
    "from pystarburst.types import * \n",
    "\n",
    "# grab credentials from the notebook user to be used when making a connection\n",
    "host = input(\"Host name\")\n",
    "username = input(\"User name\")\n",
    "password = getpass.getpass(\"Password\")\n",
    "\n",
    "# PyStarburst setup\n",
    "session_properties = {\n",
    "    \"host\":host,\n",
    "    \"port\": 443,\n",
    "    \"http_scheme\": \"https\",\n",
    "    \"auth\": trino.auth.BasicAuthentication(username, password)\n",
    "}\n",
    "session = Session.builder.configs(session_properties).create()\n",
    "\n",
    "# validate PyStarburst working\n",
    "session.sql(\"select 'Yes' as Working\").collect()"
   ]
  },
  {
   "cell_type": "markdown",
   "id": "aeba0c24",
   "metadata": {},
   "source": [
    "---\n",
    "## Let's code"
   ]
  },
  {
   "cell_type": "code",
   "execution_count": 21,
   "id": "27de0242",
   "metadata": {},
   "outputs": [
    {
     "name": "stdout",
     "output_type": "stream",
     "text": [
      "------------------------\n",
      "|\"cust_id\"  |\"name\"    |\n",
      "------------------------\n",
      "|101        |Lester    |\n",
      "|102        |Gretchen  |\n",
      "|103        |Zoe       |\n",
      "|104        |Connor    |\n",
      "------------------------\n",
      "\n"
     ]
    }
   ],
   "source": [
    "# create a customer DF\n",
    "\n",
    "cust_schema = StructType([StructField(\"cust_id\", IntegerType()), \n",
    "                          StructField(\"name\", StringType())])\n",
    "\n",
    "custDF = session.create_dataframe([[101, \"Lester\"], [102, \"Gretchen\"], \n",
    "                                   [103, \"Zoe\"], [104, \"Connor\"]], cust_schema)\n",
    "custDF.show()"
   ]
  },
  {
   "cell_type": "code",
   "execution_count": 22,
   "id": "4286a445",
   "metadata": {},
   "outputs": [
    {
     "name": "stdout",
     "output_type": "stream",
     "text": [
      "------------------------------------------\n",
      "|\"order_id\"  |\"cust_id\"  |\"total_price\"  |\n",
      "------------------------------------------\n",
      "|8888        |101        |33.33          |\n",
      "|8889        |101        |66.66          |\n",
      "|8890        |102        |101.01         |\n",
      "|8891        |101        |99.99          |\n",
      "------------------------------------------\n",
      "\n"
     ]
    }
   ],
   "source": [
    "# create an order DF\n",
    "\n",
    "order_schema = StructType([StructField(\"order_id\", IntegerType()), \n",
    "                           StructField(\"cust_id\", IntegerType()), \n",
    "                           StructField(\"total_price\", FloatType())])\n",
    "\n",
    "orderDF = session.create_dataframe([[8888, 101, 33.33], \n",
    "                                    [8889, 101, 66.66],\n",
    "                                    [8890, 102, 101.01],\n",
    "                                    [8891, 101, 99.99]], order_schema)\n",
    "orderDF.show()"
   ]
  },
  {
   "cell_type": "code",
   "execution_count": 23,
   "id": "66dbcfdb",
   "metadata": {},
   "outputs": [
    {
     "name": "stdout",
     "output_type": "stream",
     "text": [
      "-------------------------------------------------------------------------------\n",
      "|\"order_id\"  |\"l_66x3_cust_id\"  |\"total_price\"  |\"r_pzf3_cust_id\"  |\"name\"    |\n",
      "-------------------------------------------------------------------------------\n",
      "|8891        |101               |99.99          |101               |Lester    |\n",
      "|8889        |101               |66.66          |101               |Lester    |\n",
      "|8888        |101               |33.33          |101               |Lester    |\n",
      "|8890        |102               |101.01         |102               |Gretchen  |\n",
      "-------------------------------------------------------------------------------\n",
      "\n"
     ]
    }
   ],
   "source": [
    "# join them\n",
    "\n",
    "joinedDF1 = orderDF.join(custDF, orderDF.cust_id == custDF.cust_id)\n",
    "joinedDF1.show()"
   ]
  },
  {
   "cell_type": "code",
   "execution_count": 24,
   "id": "67206b50",
   "metadata": {},
   "outputs": [
    {
     "name": "stdout",
     "output_type": "stream",
     "text": [
      "-----------------------------------------------------\n",
      "|\"order_id\"  |\"cust_id\"  |\"total_price\"  |\"name\"    |\n",
      "-----------------------------------------------------\n",
      "|8891        |101        |99.99          |Lester    |\n",
      "|8889        |101        |66.66          |Lester    |\n",
      "|8888        |101        |33.33          |Lester    |\n",
      "|8890        |102        |101.01         |Gretchen  |\n",
      "-----------------------------------------------------\n",
      "\n"
     ]
    }
   ],
   "source": [
    "# ^^^ got some \"cute\" names for the columns whose names were the same\n",
    "\n",
    "# original blog post suggested just renaming one of the columns first \n",
    "#  which makes it super easy to get rid of the duplicate column\n",
    "\n",
    "tweaked_custDF = custDF.with_column_renamed(\"cust_id\", \"id\")\n",
    "joinedDF2 = orderDF.join(tweaked_custDF, orderDF.cust_id == tweaked_custDF.id) \\\n",
    "    .drop(\"id\")\n",
    "\n",
    "joinedDF2.show()"
   ]
  },
  {
   "cell_type": "code",
   "execution_count": 25,
   "id": "e24f8bbc",
   "metadata": {},
   "outputs": [
    {
     "name": "stdout",
     "output_type": "stream",
     "text": [
      "-----------------------------------------------------------------------------------------------------------------\n",
      "|\"order_id\"  |\"l_vxck_cust_id\"  |\"total_price\"  |\"l_vxck_notes\"  |\"r_j1lm_cust_id\"  |\"name\"    |\"r_j1lm_notes\"  |\n",
      "-----------------------------------------------------------------------------------------------------------------\n",
      "|8888        |101               |33.33          |order note      |101               |Lester    |cust note       |\n",
      "|8889        |101               |66.66          |order note      |101               |Lester    |cust note       |\n",
      "|8890        |102               |101.01         |order note      |102               |Gretchen  |cust note       |\n",
      "|8891        |101               |99.99          |order note      |101               |Lester    |cust note       |\n",
      "-----------------------------------------------------------------------------------------------------------------\n",
      "\n"
     ]
    }
   ],
   "source": [
    "# these \"cute\" names happen for any name collisions\n",
    "\n",
    "custDF_with_notes = custDF.with_column(\"notes\", lit(\"cust note\"))\n",
    "\n",
    "orderDF_with_notes = orderDF.with_column(\"notes\", lit(\"order note\"))\n",
    "\n",
    "joinedDF3 = orderDF_with_notes.join(custDF_with_notes, \n",
    "                                    orderDF_with_notes.cust_id == custDF_with_notes.cust_id)\n",
    "joinedDF3.show()"
   ]
  },
  {
   "cell_type": "code",
   "execution_count": 26,
   "id": "b3e20879",
   "metadata": {},
   "outputs": [
    {
     "name": "stdout",
     "output_type": "stream",
     "text": [
      "----------------------------------------------------------------------------------------------\n",
      "|\"order_id\"  |\"cust_id_o\"  |\"total_price\"  |\"notes_o\"   |\"cust_id_c\"  |\"name\"    |\"notes_c\"  |\n",
      "----------------------------------------------------------------------------------------------\n",
      "|8888        |101          |33.33          |order note  |101          |Lester    |cust note  |\n",
      "|8889        |101          |66.66          |order note  |101          |Lester    |cust note  |\n",
      "|8890        |102          |101.01         |order note  |102          |Gretchen  |cust note  |\n",
      "|8891        |101          |99.99          |order note  |101          |Lester    |cust note  |\n",
      "----------------------------------------------------------------------------------------------\n",
      "\n"
     ]
    }
   ],
   "source": [
    "# ^^^ shows 4 of those \"cute\" rewritten names\n",
    "#  you could rename everthing manually that can have a collision, but you could also \n",
    "#  leverage lsuffix and/or rsuffix (either or both!) as shown below to allow the \n",
    "#  \"cute\" names become predictable (showing both in play below)\n",
    "\n",
    "orderDF_with_notes.join(custDF_with_notes, \n",
    "                        orderDF_with_notes.cust_id == custDF_with_notes.cust_id,\n",
    "\n",
    "                        lsuffix = '_o', rsuffix = '_c').show()"
   ]
  },
  {
   "cell_type": "markdown",
   "id": "a9b55ecd",
   "metadata": {},
   "source": [
    "---\n",
    "## Blog post specific examples\n",
    "\n",
    "These last few cells are repeats from above, but are being used in the blog post that's link to this notebook"
   ]
  },
  {
   "cell_type": "code",
   "execution_count": 31,
   "id": "6179dc3a",
   "metadata": {},
   "outputs": [
    {
     "name": "stdout",
     "output_type": "stream",
     "text": [
      "-------------------------------------------------------\n",
      "|\"order_id\"  |\"cust_id\"  |\"total_price\"  |\"notes\"     |\n",
      "-------------------------------------------------------\n",
      "|8888        |101        |33.33          |order note  |\n",
      "|8889        |101        |66.66          |order note  |\n",
      "|8890        |102        |101.01         |order note  |\n",
      "|8891        |101        |99.99          |order note  |\n",
      "-------------------------------------------------------\n",
      "\n",
      "------------------------------------\n",
      "|\"cust_id\"  |\"name\"    |\"notes\"    |\n",
      "------------------------------------\n",
      "|101        |Lester    |cust note  |\n",
      "|102        |Gretchen  |cust note  |\n",
      "|103        |Zoe       |cust note  |\n",
      "|104        |Connor    |cust note  |\n",
      "------------------------------------\n",
      "\n"
     ]
    }
   ],
   "source": [
    "# this last one is a single cell version of the w/rename route\n",
    "\n",
    "orders = orderDF_with_notes\n",
    "orders.show()\n",
    "\n",
    "custs = custDF_with_notes\n",
    "custs.show()"
   ]
  },
  {
   "cell_type": "code",
   "execution_count": 32,
   "id": "2a6d2ada",
   "metadata": {},
   "outputs": [
    {
     "name": "stdout",
     "output_type": "stream",
     "text": [
      "-----------------------------------------------------------------------------------------------------------------\n",
      "|\"order_id\"  |\"l_ptl0_cust_id\"  |\"total_price\"  |\"l_ptl0_notes\"  |\"r_9zag_cust_id\"  |\"name\"    |\"r_9zag_notes\"  |\n",
      "-----------------------------------------------------------------------------------------------------------------\n",
      "|8888        |101               |33.33          |order note      |101               |Lester    |cust note       |\n",
      "|8889        |101               |66.66          |order note      |101               |Lester    |cust note       |\n",
      "|8890        |102               |101.01         |order note      |102               |Gretchen  |cust note       |\n",
      "|8891        |101               |99.99          |order note      |101               |Lester    |cust note       |\n",
      "-----------------------------------------------------------------------------------------------------------------\n",
      "\n"
     ]
    }
   ],
   "source": [
    "# generated names on collisions\n",
    "\n",
    "orders.join(custs, orders.cust_id == custs.cust_id).show()"
   ]
  },
  {
   "cell_type": "code",
   "execution_count": 35,
   "id": "adf1bd88",
   "metadata": {},
   "outputs": [
    {
     "name": "stdout",
     "output_type": "stream",
     "text": [
      "----------------------------------------------------------------------------------------\n",
      "|\"order_id\"  |\"cust_id\"  |\"total_price\"  |\"order_notes\"  |\"id\"  |\"name\"    |\"notes\"    |\n",
      "----------------------------------------------------------------------------------------\n",
      "|8888        |101        |33.33          |order note     |101   |Lester    |cust note  |\n",
      "|8889        |101        |66.66          |order note     |101   |Lester    |cust note  |\n",
      "|8890        |102        |101.01         |order note     |102   |Gretchen  |cust note  |\n",
      "|8891        |101        |99.99          |order note     |101   |Lester    |cust note  |\n",
      "----------------------------------------------------------------------------------------\n",
      "\n"
     ]
    }
   ],
   "source": [
    "# tackling the issue by manually renaming columns\n",
    "\n",
    "ordersMod = orders.with_column_renamed(\n",
    "    \"notes\", \"order_notes\")\n",
    "\n",
    "custsMod = custs.with_column_renamed(\n",
    "    \"cust_id\", \"id\")\n",
    "\n",
    "ordersMod.join(custsMod, \n",
    "               ordersMod.cust_id == custsMod.id).show()"
   ]
  },
  {
   "cell_type": "code",
   "execution_count": 37,
   "id": "4bbf7e77",
   "metadata": {},
   "outputs": [
    {
     "name": "stdout",
     "output_type": "stream",
     "text": [
      "--------------------------------------------------------------------------------------------\n",
      "|\"order_id\"  |\"cust_id\"  |\"total_price\"  |\"notes\"     |\"cust_id_c\"  |\"name\"    |\"notes_c\"  |\n",
      "--------------------------------------------------------------------------------------------\n",
      "|8888        |101        |33.33          |order note  |101          |Lester    |cust note  |\n",
      "|8889        |101        |66.66          |order note  |101          |Lester    |cust note  |\n",
      "|8890        |102        |101.01         |order note  |102          |Gretchen  |cust note  |\n",
      "|8891        |101        |99.99          |order note  |101          |Lester    |cust note  |\n",
      "--------------------------------------------------------------------------------------------\n",
      "\n"
     ]
    }
   ],
   "source": [
    "# tackling the issue with automagical suffix values\n",
    "\n",
    "orders.join(custs, \n",
    "            orders.cust_id == custs.cust_id, \n",
    "            rsuffix = '_c').show()"
   ]
  },
  {
   "cell_type": "code",
   "execution_count": null,
   "id": "57e4e19b",
   "metadata": {},
   "outputs": [],
   "source": []
  }
 ],
 "metadata": {
  "kernelspec": {
   "display_name": "Python 3 (ipykernel)",
   "language": "python",
   "name": "python3"
  },
  "language_info": {
   "codemirror_mode": {
    "name": "ipython",
    "version": 3
   },
   "file_extension": ".py",
   "mimetype": "text/x-python",
   "name": "python",
   "nbconvert_exporter": "python",
   "pygments_lexer": "ipython3",
   "version": "3.10.9"
  }
 },
 "nbformat": 4,
 "nbformat_minor": 5
}
