{
  "cells": [
    {
      "cell_type": "markdown",
      "metadata": {
        "id": "view-in-github",
        "colab_type": "text"
      },
      "source": [
        "<a href=\"https://colab.research.google.com/github/lestermartin/starburst-dataframes-exploration/blob/main/PyStarburst/notebooks/UsePyStarburst.ipynb\" target=\"_parent\"><img src=\"https://colab.research.google.com/assets/colab-badge.svg\" alt=\"Open In Colab\"/></a>"
      ]
    },
    {
      "cell_type": "markdown",
      "id": "c3883d2a",
      "metadata": {
        "id": "c3883d2a"
      },
      "source": [
        "# Simple notebook setting up and using PyStarburst"
      ]
    },
    {
      "cell_type": "markdown",
      "id": "bd8adb40",
      "metadata": {
        "id": "bd8adb40"
      },
      "source": [
        "---\n",
        "## Config & setup"
      ]
    },
    {
      "cell_type": "markdown",
      "source": [
        "### Install PyStarburst\n",
        "\n",
        "Run the next cell, as called out in https://docs.starburst.io/clients/python/pystarburst.html."
      ],
      "metadata": {
        "id": "PYhJsDdqYjg_"
      },
      "id": "PYhJsDdqYjg_"
    },
    {
      "cell_type": "code",
      "source": [
        "pip install pystarburst"
      ],
      "metadata": {
        "id": "96mZS8J7Yzlc"
      },
      "id": "96mZS8J7Yzlc",
      "execution_count": null,
      "outputs": []
    },
    {
      "cell_type": "markdown",
      "id": "11b425ab",
      "metadata": {
        "id": "11b425ab"
      },
      "source": [
        "### Galaxy cluster & user credentials\n",
        "\n",
        "Run the next cell, but realize that it does NOT actually validate your values."
      ]
    },
    {
      "cell_type": "code",
      "execution_count": null,
      "id": "999ddb74",
      "metadata": {
        "id": "999ddb74"
      },
      "outputs": [],
      "source": [
        "import getpass\n",
        "\n",
        "# grab credentials from the notebook user to be used when making a connection\n",
        "host = input(\"Host name\")\n",
        "username = input(\"User name\")\n",
        "password = getpass.getpass(\"Password\")"
      ]
    },
    {
      "cell_type": "markdown",
      "id": "05f55111",
      "metadata": {
        "id": "05f55111"
      },
      "source": [
        "### Setup PyStarburst session\n",
        "\n",
        "Should return `[Row(Working='Yes')]` if functional.  If an exception is raised,\n",
        "it is likely due to incorrect cluster and/or credentials values."
      ]
    },
    {
      "cell_type": "code",
      "execution_count": null,
      "id": "97d31b94",
      "metadata": {
        "id": "97d31b94"
      },
      "outputs": [],
      "source": [
        "import trino\n",
        "\n",
        "from pystarburst import Session\n",
        "from pystarburst import functions as F\n",
        "from pystarburst.functions import *\n",
        "from pystarburst.window import Window as W\n",
        "\n",
        "# PyStarburst setup\n",
        "session_properties = {\n",
        "    \"host\":host,\n",
        "    \"port\": 443,\n",
        "    \"http_scheme\": \"https\",\n",
        "    \"auth\": trino.auth.BasicAuthentication(username, password)\n",
        "}\n",
        "session = Session.builder.configs(session_properties).create()\n",
        "\n",
        "# validate PyStarburst working\n",
        "session.sql(\"select 'Yes' as Working\").collect()"
      ]
    },
    {
      "cell_type": "markdown",
      "id": "aeba0c24",
      "metadata": {
        "id": "aeba0c24"
      },
      "source": [
        "---\n",
        "## Let's play"
      ]
    },
    {
      "cell_type": "code",
      "execution_count": null,
      "id": "4286a445",
      "metadata": {
        "id": "4286a445"
      },
      "outputs": [],
      "source": [
        "# hand-jam a dataframe and show it\n",
        "\n",
        "local_df = session.create_dataframe([[1, \"a\", 1.0], [2, \"b\", 2.0]]).to_df(\"id\", \"value1\", \"value2\")\n",
        "local_df.show()"
      ]
    },
    {
      "cell_type": "code",
      "execution_count": null,
      "id": "66dbcfdb",
      "metadata": {
        "id": "66dbcfdb"
      },
      "outputs": [],
      "source": [
        "# read a TPCH table and show it\n",
        "\n",
        "remote_df = session.sql(\"select * from tpch.tiny.nation\")\n",
        "remote_df.show()"
      ]
    }
  ],
  "metadata": {
    "kernelspec": {
      "display_name": "Python 3 (ipykernel)",
      "language": "python",
      "name": "python3"
    },
    "language_info": {
      "codemirror_mode": {
        "name": "ipython",
        "version": 3
      },
      "file_extension": ".py",
      "mimetype": "text/x-python",
      "name": "python",
      "nbconvert_exporter": "python",
      "pygments_lexer": "ipython3",
      "version": "3.10.9"
    },
    "colab": {
      "provenance": [],
      "include_colab_link": true
    }
  },
  "nbformat": 4,
  "nbformat_minor": 5
}