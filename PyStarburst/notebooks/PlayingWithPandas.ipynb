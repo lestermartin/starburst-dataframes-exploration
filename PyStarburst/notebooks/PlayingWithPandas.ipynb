{
 "cells": [
  {
   "cell_type": "markdown",
   "id": "c3883d2a",
   "metadata": {},
   "source": [
    "# Simple notebook playing around with Pandas"
   ]
  },
  {
   "cell_type": "markdown",
   "id": "bd8adb40",
   "metadata": {},
   "source": [
    "---\n",
    "## Config & setup"
   ]
  },
  {
   "cell_type": "markdown",
   "id": "11b425ab",
   "metadata": {},
   "source": [
    "### Galaxy cluster & user credentials\n",
    "\n",
    "Run the next cell, but realize that it does NOT actually validate your values."
   ]
  },
  {
   "cell_type": "code",
   "execution_count": null,
   "id": "999ddb74",
   "metadata": {},
   "outputs": [],
   "source": [
    "import getpass\n",
    "\n",
    "# grab credentials from the notebook user to be used when making a connection\n",
    "host = input(\"Host name\")\n",
    "username = input(\"User name\")\n",
    "password = getpass.getpass(\"Password\")"
   ]
  },
  {
   "cell_type": "markdown",
   "id": "05f55111",
   "metadata": {},
   "source": [
    "### Setup PyStarburst session\n",
    "\n",
    "Should return `[Row(Working='Yes')]` if functional.  If an exception is raised, \n",
    "it is likely due to incorrect cluster and/or credentials values."
   ]
  },
  {
   "cell_type": "code",
   "execution_count": null,
   "id": "97d31b94",
   "metadata": {},
   "outputs": [],
   "source": [
    "import trino\n",
    "\n",
    "from pystarburst import Session\n",
    "from pystarburst import functions as F\n",
    "from pystarburst.functions import *\n",
    "from pystarburst.window import Window as W\n",
    "\n",
    "# PyStarburst setup\n",
    "session_properties = {\n",
    "    \"host\":host,\n",
    "    \"port\": 443,\n",
    "    \"http_scheme\": \"https\",\n",
    "    \"auth\": trino.auth.BasicAuthentication(username, password)\n",
    "}\n",
    "session = Session.builder.configs(session_properties).create()\n",
    "\n",
    "# validate PyStarburst working\n",
    "session.sql(\"select 'Yes' as Working\").collect()"
   ]
  },
  {
   "cell_type": "markdown",
   "id": "aeba0c24",
   "metadata": {},
   "source": [
    "---\n",
    "## Let's play"
   ]
  },
  {
   "cell_type": "code",
   "execution_count": null,
   "id": "27de0242",
   "metadata": {},
   "outputs": [],
   "source": []
  },
  {
   "cell_type": "code",
   "execution_count": 3,
   "id": "4286a445",
   "metadata": {},
   "outputs": [
    {
     "data": {
      "text/html": [
       "<div>\n",
       "<style scoped>\n",
       "    .dataframe tbody tr th:only-of-type {\n",
       "        vertical-align: middle;\n",
       "    }\n",
       "\n",
       "    .dataframe tbody tr th {\n",
       "        vertical-align: top;\n",
       "    }\n",
       "\n",
       "    .dataframe thead th {\n",
       "        text-align: right;\n",
       "    }\n",
       "</style>\n",
       "<table border=\"1\" class=\"dataframe\">\n",
       "  <thead>\n",
       "    <tr style=\"text-align: right;\">\n",
       "      <th></th>\n",
       "      <th>id</th>\n",
       "      <th>value1</th>\n",
       "      <th>value2</th>\n",
       "    </tr>\n",
       "  </thead>\n",
       "  <tbody>\n",
       "    <tr>\n",
       "      <th>0</th>\n",
       "      <td>1</td>\n",
       "      <td>a</td>\n",
       "      <td>1.0</td>\n",
       "    </tr>\n",
       "    <tr>\n",
       "      <th>1</th>\n",
       "      <td>2</td>\n",
       "      <td>b</td>\n",
       "      <td>2.0</td>\n",
       "    </tr>\n",
       "  </tbody>\n",
       "</table>\n",
       "</div>"
      ],
      "text/plain": [
       "   id value1  value2\n",
       "0   1      a     1.0\n",
       "1   2      b     2.0"
      ]
     },
     "metadata": {},
     "output_type": "display_data"
    }
   ],
   "source": [
    "# create a Pandas DF from a PyStarburst DF\n",
    "#  https://pystarburst.eng.starburstdata.net/dataframe.html#pystarburst.dataframe.DataFrame.to_pandas\n",
    "\n",
    "pandas_df = session.create_dataframe([[1, \"a\", 1.0], [2, \"b\", 2.0]]).to_df(\"id\", \"value1\", \"value2\").to_pandas()\n",
    "display(pandas_df)"
   ]
  },
  {
   "cell_type": "code",
   "execution_count": 4,
   "id": "66dbcfdb",
   "metadata": {},
   "outputs": [
    {
     "name": "stdout",
     "output_type": "stream",
     "text": [
      "------------------------------\n",
      "|\"id\"  |\"value1\"  |\"value2\"  |\n",
      "------------------------------\n",
      "|1     |a         |1.0       |\n",
      "|2     |b         |2.0       |\n",
      "------------------------------\n",
      "\n"
     ]
    }
   ],
   "source": [
    "# create a PyStarburst DF from a Pandas DF\n",
    "#  https://pystarburst.eng.starburstdata.net/session.html#pystarburst.session.Session.createDataFrame\n",
    "\n",
    "pystarburst_df = session.create_dataframe(pandas_df.to_dict('records'))\n",
    "pystarburst_df.show()"
   ]
  },
  {
   "cell_type": "code",
   "execution_count": null,
   "id": "67206b50",
   "metadata": {},
   "outputs": [],
   "source": []
  }
 ],
 "metadata": {
  "kernelspec": {
   "display_name": "Python 3 (ipykernel)",
   "language": "python",
   "name": "python3"
  },
  "language_info": {
   "codemirror_mode": {
    "name": "ipython",
    "version": 3
   },
   "file_extension": ".py",
   "mimetype": "text/x-python",
   "name": "python",
   "nbconvert_exporter": "python",
   "pygments_lexer": "ipython3",
   "version": "3.10.9"
  }
 },
 "nbformat": 4,
 "nbformat_minor": 5
}
